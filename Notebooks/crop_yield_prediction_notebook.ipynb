{
 "cells": [
  {
   "cell_type": "markdown",
   "id": "80d1cffa",
   "metadata": {
    "papermill": {
     "duration": 0.012891,
     "end_time": "2023-08-23T13:38:47.838784",
     "exception": false,
     "start_time": "2023-08-23T13:38:47.825893",
     "status": "completed"
    },
    "tags": []
   },
   "source": [
    "# Pretext\n",
    "In a world ever more interconnected, the marriage of machine learning and agriculture gains profound significance. With our global population swelling, the study of crop yield becomes paramount. The intricate dance of weather patterns, chemical treatments, and historical insights determines agricultural success. Unlocking this puzzle holds the key to food security and resilience against climate flux.     \n",
    "\n",
    "This project squarely addresses this challenge by deploying machine learning to predict the top 10 most-consumed crops worldwide. These essential staples like corn, wheat, and rice, form the bedrock of human sustenance. By harnessing the power of regression techniques, we develop a path to foresee yields, empowering farmers, as they can optimise resources.\n",
    "\n",
    "In this notebook, I have aimed to provide deep, insightful analysis, and visualisation, unveiling meaningful information that will be of significant value, and have also finally built a regression model, that can predict yields on unseen test data, with a whopping R2 score of about 0.972!"
   ]
  },
  {
   "cell_type": "markdown",
   "id": "d1981f9c",
   "metadata": {
    "papermill": {
     "duration": 0.011873,
     "end_time": "2023-08-23T13:38:47.863276",
     "exception": false,
     "start_time": "2023-08-23T13:38:47.851403",
     "status": "completed"
    },
    "tags": []
   },
   "source": [
    "<div style=\"background-color: #fce5cd; padding: 20px; border-radius: 10px;\">\n",
    "    <p style=\"font-size: 18px; text-align: center;\"><em>Your support fuels inspiration!</em></p>\n",
    "    <p style=\"font-size: 16px; text-align: center;\">🌟 If this Notebook has intrigued you, I humbly invite you to join in celebrating the journey. An upvote is a resounding cheer, a way to say \"Bravo!\"</p>\n",
    "    <p style=\"font-size: 16px; text-align: center;\">Let's build a connection – a bridge for ideas to meet up. Your engagement encourages, and I extend a warm welcome to connect.</p>\n",
    "    <p style=\"font-size: 16px; text-align: center;\">Together, let's revel in the journey of exploration. 🚀🤝</p>\n",
    "</div>\n",
    "\n"
   ]
  },
  {
   "cell_type": "markdown",
   "id": "bffc85aa",
   "metadata": {
    "papermill": {
     "duration": 0.011896,
     "end_time": "2023-08-23T13:38:47.887409",
     "exception": false,
     "start_time": "2023-08-23T13:38:47.875513",
     "status": "completed"
    },
    "tags": []
   },
   "source": [
    "# Loading and reading the datasets\n",
    "\n",
    "After importing required libraries, crops yield of ten most consumed crops around the world was downloaded from FAO webiste.The collected data include country, item, year starting from 1961 to 2016 and yield value"
   ]
  },
  {
   "cell_type": "code",
   "execution_count": 2,
   "id": "06f9248b",
   "metadata": {
    "_cell_guid": "b1076dfc-b9ad-4769-8c92-a6c4dae69d19",
    "_uuid": "8f2839f25d086af736a60e9eeb907d3b93b6e0e5",
    "execution": {
     "iopub.execute_input": "2023-08-23T13:38:47.914395Z",
     "iopub.status.busy": "2023-08-23T13:38:47.913454Z",
     "iopub.status.idle": "2023-08-23T13:38:49.928951Z",
     "shell.execute_reply": "2023-08-23T13:38:49.927699Z"
    },
    "papermill": {
     "duration": 2.031581,
     "end_time": "2023-08-23T13:38:49.931280",
     "exception": false,
     "start_time": "2023-08-23T13:38:47.899699",
     "status": "completed"
    },
    "tags": []
   },
   "outputs": [
    {
     "name": "stdout",
     "output_type": "stream",
     "text": [
      "A sample set of rows for               Domain      Area Element                Item  Year  \\\n",
      "0     Pesticides Use   Albania     Use  Pesticides (total)  1990   \n",
      "1     Pesticides Use   Albania     Use  Pesticides (total)  1991   \n",
      "2     Pesticides Use   Albania     Use  Pesticides (total)  1992   \n",
      "3     Pesticides Use   Albania     Use  Pesticides (total)  1993   \n",
      "4     Pesticides Use   Albania     Use  Pesticides (total)  1994   \n",
      "...              ...       ...     ...                 ...   ...   \n",
      "4344  Pesticides Use  Zimbabwe     Use  Pesticides (total)  2012   \n",
      "4345  Pesticides Use  Zimbabwe     Use  Pesticides (total)  2013   \n",
      "4346  Pesticides Use  Zimbabwe     Use  Pesticides (total)  2014   \n",
      "4347  Pesticides Use  Zimbabwe     Use  Pesticides (total)  2015   \n",
      "4348  Pesticides Use  Zimbabwe     Use  Pesticides (total)  2016   \n",
      "\n",
      "                              Unit    Value  \n",
      "0     tonnes of active ingredients   121.00  \n",
      "1     tonnes of active ingredients   121.00  \n",
      "2     tonnes of active ingredients   121.00  \n",
      "3     tonnes of active ingredients   121.00  \n",
      "4     tonnes of active ingredients   201.00  \n",
      "...                            ...      ...  \n",
      "4344  tonnes of active ingredients  3375.53  \n",
      "4345  tonnes of active ingredients  2550.07  \n",
      "4346  tonnes of active ingredients  2185.07  \n",
      "4347  tonnes of active ingredients  2185.07  \n",
      "4348  tonnes of active ingredients  2185.07  \n",
      "\n",
      "[4349 rows x 7 columns] is:\n",
      "\n",
      "              Domain             Area Element                Item  Year  \\\n",
      "3842  Pesticides Use      Timor-Leste     Use  Pesticides (total)  1996   \n",
      "893   Pesticides Use  China, mainland     Use  Pesticides (total)  1998   \n",
      "3071  Pesticides Use         Paraguay     Use  Pesticides (total)  2009   \n",
      "3977  Pesticides Use           Turkey     Use  Pesticides (total)  1996   \n",
      "3531  Pesticides Use         Slovenia     Use  Pesticides (total)  2005   \n",
      "4261  Pesticides Use         Viet Nam     Use  Pesticides (total)  2012   \n",
      "\n",
      "                              Unit       Value  \n",
      "3842  tonnes of active ingredients        0.06  \n",
      "893   tonnes of active ingredients  1231699.00  \n",
      "3071  tonnes of active ingredients    29989.98  \n",
      "3977  tonnes of active ingredients    30286.00  \n",
      "3531  tonnes of active ingredients     1383.88  \n",
      "4261  tonnes of active ingredients    19154.00  \n",
      "A sample set of rows for              Area  Year average_rain_fall_mm_per_year\n",
      "0     Afghanistan  1985                           327\n",
      "1     Afghanistan  1986                           327\n",
      "2     Afghanistan  1987                           327\n",
      "3     Afghanistan  1989                           327\n",
      "4     Afghanistan  1990                           327\n",
      "...           ...   ...                           ...\n",
      "6722     Zimbabwe  2013                           657\n",
      "6723     Zimbabwe  2014                           657\n",
      "6724     Zimbabwe  2015                           657\n",
      "6725     Zimbabwe  2016                           657\n",
      "6726     Zimbabwe  2017                           657\n",
      "\n",
      "[6727 rows x 3 columns] is:\n",
      "\n",
      "             Area  Year average_rain_fall_mm_per_year\n",
      "5052       Rwanda  2017                          1212\n",
      "4881     Portugal  2000                           854\n",
      "3530        Libya  2014                            56\n",
      "1703     Djibouti  2016                           220\n",
      "1838  El Salvador  1995                          1784\n",
      "258       Armenia  1996                           562\n",
      "A sample set of rows for        year        country  avg_temp\n",
      "0      1849  Côte D'Ivoire     25.58\n",
      "1      1850  Côte D'Ivoire     25.52\n",
      "2      1851  Côte D'Ivoire     25.67\n",
      "3      1852  Côte D'Ivoire       NaN\n",
      "4      1853  Côte D'Ivoire       NaN\n",
      "...     ...            ...       ...\n",
      "71306  2009         Mexico     21.76\n",
      "71307  2010         Mexico     20.90\n",
      "71308  2011         Mexico     21.55\n",
      "71309  2012         Mexico     21.52\n",
      "71310  2013         Mexico     22.19\n",
      "\n",
      "[71311 rows x 3 columns] is:\n",
      "\n",
      "       year  country  avg_temp\n",
      "54070  1995    India     26.72\n",
      "45747  1894  Bahamas     24.55\n",
      "27117  1902    India     25.65\n",
      "32348  2011  Ukraine      8.48\n",
      "53660  1803  Morocco     17.51\n",
      "63001  1841    China     10.05\n",
      "A sample set of rows for       Domain Code Domain  Area Code         Area  Element Code Element  \\\n",
      "0              QC  Crops          2  Afghanistan          5419   Yield   \n",
      "1              QC  Crops          2  Afghanistan          5419   Yield   \n",
      "2              QC  Crops          2  Afghanistan          5419   Yield   \n",
      "3              QC  Crops          2  Afghanistan          5419   Yield   \n",
      "4              QC  Crops          2  Afghanistan          5419   Yield   \n",
      "...           ...    ...        ...          ...           ...     ...   \n",
      "56712          QC  Crops        181     Zimbabwe          5419   Yield   \n",
      "56713          QC  Crops        181     Zimbabwe          5419   Yield   \n",
      "56714          QC  Crops        181     Zimbabwe          5419   Yield   \n",
      "56715          QC  Crops        181     Zimbabwe          5419   Yield   \n",
      "56716          QC  Crops        181     Zimbabwe          5419   Yield   \n",
      "\n",
      "       Item Code   Item  Year Code  Year   Unit  Value  \n",
      "0             56  Maize       1961  1961  hg/ha  14000  \n",
      "1             56  Maize       1962  1962  hg/ha  14000  \n",
      "2             56  Maize       1963  1963  hg/ha  14260  \n",
      "3             56  Maize       1964  1964  hg/ha  14257  \n",
      "4             56  Maize       1965  1965  hg/ha  14400  \n",
      "...          ...    ...        ...   ...    ...    ...  \n",
      "56712         15  Wheat       2012  2012  hg/ha  24420  \n",
      "56713         15  Wheat       2013  2013  hg/ha  22888  \n",
      "56714         15  Wheat       2014  2014  hg/ha  21357  \n",
      "56715         15  Wheat       2015  2015  hg/ha  19826  \n",
      "56716         15  Wheat       2016  2016  hg/ha  18294  \n",
      "\n",
      "[56717 rows x 12 columns] is:\n",
      "\n",
      "      Domain Code Domain  Area Code                                   Area  \\\n",
      "14602          QC  Crops        116  Democratic People's Republic of Korea   \n",
      "46039          QC  Crops         25                        Solomon Islands   \n",
      "50110          QC  Crops        176                            Timor-Leste   \n",
      "7152           QC  Crops         29                                Burundi   \n",
      "12262          QC  Crops         45                                Comoros   \n",
      "7773           QC  Crops        115                               Cambodia   \n",
      "\n",
      "       Element Code Element  Item Code            Item  Year Code  Year  \\\n",
      "14602          5419   Yield        116        Potatoes       2012  2012   \n",
      "46039          5419   Yield         27     Rice, paddy       2016  2016   \n",
      "50110          5419   Yield         56           Maize       1975  1975   \n",
      "7152           5419   Yield        116        Potatoes       1984  1984   \n",
      "12262          5419   Yield        122  Sweet potatoes       2004  2004   \n",
      "7773           5419   Yield        125         Cassava       1989  1989   \n",
      "\n",
      "        Unit   Value  \n",
      "14602  hg/ha  113433  \n",
      "46039  hg/ha   16570  \n",
      "50110  hg/ha   11111  \n",
      "7152   hg/ha   37000  \n",
      "12262  hg/ha   23028  \n",
      "7773   hg/ha   63000  \n"
     ]
    }
   ],
   "source": [
    "#importing the basic libraries\n",
    "import pandas as pd\n",
    "import numpy as np\n",
    "import matplotlib.pyplot as plt\n",
    "import seaborn as sns\n",
    "\n",
    "#ingesting the datasets \n",
    "pest_df=pd.read_csv('Datasets/Crop_Yield_dataset/pesticides.csv')\n",
    "rain_df=pd.read_csv('Datasets/Crop_Yield_dataset/rainfall.csv')\n",
    "temp_df=pd.read_csv('Datasets/Crop_Yield_dataset/temp.csv/temp.csv')\n",
    "yield_df=pd.read_csv('Datasets/Crop_Yield_dataset/yield.csv/yield.csv')\n",
    "data_frames=[pest_df,rain_df,temp_df,yield_df]\n",
    "\n",
    "#reading a sample set of rows for all the ingested datasets \n",
    "for df in data_frames:\n",
    "    print('A sample set of rows for {} is:\\n'.format(df))\n",
    "    print(df.sample(6))"
   ]
  },
  {
   "cell_type": "markdown",
   "id": "9f936ef0",
   "metadata": {
    "papermill": {
     "duration": 0.013936,
     "end_time": "2023-08-23T13:38:49.961240",
     "exception": false,
     "start_time": "2023-08-23T13:38:49.947304",
     "status": "completed"
    },
    "tags": []
   },
   "source": [
    "# Performing Feature Engineering and Null value imputation"
   ]
  },
  {
   "cell_type": "code",
   "execution_count": 3,
   "id": "85eb9f97",
   "metadata": {
    "execution": {
     "iopub.execute_input": "2023-08-23T13:38:49.991879Z",
     "iopub.status.busy": "2023-08-23T13:38:49.991412Z",
     "iopub.status.idle": "2023-08-23T13:38:50.010516Z",
     "shell.execute_reply": "2023-08-23T13:38:50.009191Z"
    },
    "papermill": {
     "duration": 0.037572,
     "end_time": "2023-08-23T13:38:50.013300",
     "exception": false,
     "start_time": "2023-08-23T13:38:49.975728",
     "status": "completed"
    },
    "tags": []
   },
   "outputs": [
    {
     "data": {
      "text/html": [
       "<div>\n",
       "<style scoped>\n",
       "    .dataframe tbody tr th:only-of-type {\n",
       "        vertical-align: middle;\n",
       "    }\n",
       "\n",
       "    .dataframe tbody tr th {\n",
       "        vertical-align: top;\n",
       "    }\n",
       "\n",
       "    .dataframe thead th {\n",
       "        text-align: right;\n",
       "    }\n",
       "</style>\n",
       "<table border=\"1\" class=\"dataframe\">\n",
       "  <thead>\n",
       "    <tr style=\"text-align: right;\">\n",
       "      <th></th>\n",
       "      <th>Area</th>\n",
       "      <th>Year</th>\n",
       "      <th>Value</th>\n",
       "    </tr>\n",
       "  </thead>\n",
       "  <tbody>\n",
       "    <tr>\n",
       "      <th>0</th>\n",
       "      <td>Albania</td>\n",
       "      <td>1990</td>\n",
       "      <td>121.0</td>\n",
       "    </tr>\n",
       "    <tr>\n",
       "      <th>1</th>\n",
       "      <td>Albania</td>\n",
       "      <td>1991</td>\n",
       "      <td>121.0</td>\n",
       "    </tr>\n",
       "    <tr>\n",
       "      <th>2</th>\n",
       "      <td>Albania</td>\n",
       "      <td>1992</td>\n",
       "      <td>121.0</td>\n",
       "    </tr>\n",
       "    <tr>\n",
       "      <th>3</th>\n",
       "      <td>Albania</td>\n",
       "      <td>1993</td>\n",
       "      <td>121.0</td>\n",
       "    </tr>\n",
       "    <tr>\n",
       "      <th>4</th>\n",
       "      <td>Albania</td>\n",
       "      <td>1994</td>\n",
       "      <td>201.0</td>\n",
       "    </tr>\n",
       "  </tbody>\n",
       "</table>\n",
       "</div>"
      ],
      "text/plain": [
       "      Area  Year  Value\n",
       "0  Albania  1990  121.0\n",
       "1  Albania  1991  121.0\n",
       "2  Albania  1992  121.0\n",
       "3  Albania  1993  121.0\n",
       "4  Albania  1994  201.0"
      ]
     },
     "execution_count": 3,
     "metadata": {},
     "output_type": "execute_result"
    }
   ],
   "source": [
    "# Dropping unnecessary columns, as they wont be of anu help to find patterns in our\n",
    "# data\n",
    "pest_df=pest_df.drop(['Unit','Domain','Element','Item'],axis=1)\n",
    "yield_df=yield_df.drop(['Domain Code','Domain','Area Code','Element Code','Item Code','Year Code','Unit'],axis=1)\n",
    "pest_df.head()"
   ]
  },
  {
   "cell_type": "code",
   "execution_count": 4,
   "id": "c1c3de52",
   "metadata": {
    "execution": {
     "iopub.execute_input": "2023-08-23T13:38:50.044621Z",
     "iopub.status.busy": "2023-08-23T13:38:50.043512Z",
     "iopub.status.idle": "2023-08-23T13:38:50.057270Z",
     "shell.execute_reply": "2023-08-23T13:38:50.056332Z"
    },
    "papermill": {
     "duration": 0.031796,
     "end_time": "2023-08-23T13:38:50.059625",
     "exception": false,
     "start_time": "2023-08-23T13:38:50.027829",
     "status": "completed"
    },
    "tags": []
   },
   "outputs": [
    {
     "data": {
      "text/html": [
       "<div>\n",
       "<style scoped>\n",
       "    .dataframe tbody tr th:only-of-type {\n",
       "        vertical-align: middle;\n",
       "    }\n",
       "\n",
       "    .dataframe tbody tr th {\n",
       "        vertical-align: top;\n",
       "    }\n",
       "\n",
       "    .dataframe thead th {\n",
       "        text-align: right;\n",
       "    }\n",
       "</style>\n",
       "<table border=\"1\" class=\"dataframe\">\n",
       "  <thead>\n",
       "    <tr style=\"text-align: right;\">\n",
       "      <th></th>\n",
       "      <th>Area</th>\n",
       "      <th>Element</th>\n",
       "      <th>Item</th>\n",
       "      <th>Year</th>\n",
       "      <th>Value</th>\n",
       "    </tr>\n",
       "  </thead>\n",
       "  <tbody>\n",
       "    <tr>\n",
       "      <th>0</th>\n",
       "      <td>Afghanistan</td>\n",
       "      <td>Yield</td>\n",
       "      <td>Maize</td>\n",
       "      <td>1961</td>\n",
       "      <td>14000</td>\n",
       "    </tr>\n",
       "    <tr>\n",
       "      <th>1</th>\n",
       "      <td>Afghanistan</td>\n",
       "      <td>Yield</td>\n",
       "      <td>Maize</td>\n",
       "      <td>1962</td>\n",
       "      <td>14000</td>\n",
       "    </tr>\n",
       "    <tr>\n",
       "      <th>2</th>\n",
       "      <td>Afghanistan</td>\n",
       "      <td>Yield</td>\n",
       "      <td>Maize</td>\n",
       "      <td>1963</td>\n",
       "      <td>14260</td>\n",
       "    </tr>\n",
       "    <tr>\n",
       "      <th>3</th>\n",
       "      <td>Afghanistan</td>\n",
       "      <td>Yield</td>\n",
       "      <td>Maize</td>\n",
       "      <td>1964</td>\n",
       "      <td>14257</td>\n",
       "    </tr>\n",
       "    <tr>\n",
       "      <th>4</th>\n",
       "      <td>Afghanistan</td>\n",
       "      <td>Yield</td>\n",
       "      <td>Maize</td>\n",
       "      <td>1965</td>\n",
       "      <td>14400</td>\n",
       "    </tr>\n",
       "  </tbody>\n",
       "</table>\n",
       "</div>"
      ],
      "text/plain": [
       "          Area Element   Item  Year  Value\n",
       "0  Afghanistan   Yield  Maize  1961  14000\n",
       "1  Afghanistan   Yield  Maize  1962  14000\n",
       "2  Afghanistan   Yield  Maize  1963  14260\n",
       "3  Afghanistan   Yield  Maize  1964  14257\n",
       "4  Afghanistan   Yield  Maize  1965  14400"
      ]
     },
     "execution_count": 4,
     "metadata": {},
     "output_type": "execute_result"
    }
   ],
   "source": [
    "yield_df.head()"
   ]
  },
  {
   "cell_type": "code",
   "execution_count": 5,
   "id": "99b93909",
   "metadata": {
    "execution": {
     "iopub.execute_input": "2023-08-23T13:38:50.091736Z",
     "iopub.status.busy": "2023-08-23T13:38:50.090987Z",
     "iopub.status.idle": "2023-08-23T13:38:50.097551Z",
     "shell.execute_reply": "2023-08-23T13:38:50.096414Z"
    },
    "papermill": {
     "duration": 0.025253,
     "end_time": "2023-08-23T13:38:50.099980",
     "exception": false,
     "start_time": "2023-08-23T13:38:50.074727",
     "status": "completed"
    },
    "tags": []
   },
   "outputs": [
    {
     "data": {
      "text/plain": [
       "Index(['Area', 'Element', 'Item', 'Year', 'Value'], dtype='object')"
      ]
     },
     "execution_count": 5,
     "metadata": {},
     "output_type": "execute_result"
    }
   ],
   "source": [
    "yield_df.columns"
   ]
  },
  {
   "cell_type": "code",
   "execution_count": 6,
   "id": "14162f18",
   "metadata": {
    "execution": {
     "iopub.execute_input": "2023-08-23T13:38:50.131697Z",
     "iopub.status.busy": "2023-08-23T13:38:50.131260Z",
     "iopub.status.idle": "2023-08-23T13:38:50.139732Z",
     "shell.execute_reply": "2023-08-23T13:38:50.138907Z"
    },
    "papermill": {
     "duration": 0.028031,
     "end_time": "2023-08-23T13:38:50.142916",
     "exception": false,
     "start_time": "2023-08-23T13:38:50.114885",
     "status": "completed"
    },
    "tags": []
   },
   "outputs": [
    {
     "name": "stdout",
     "output_type": "stream",
     "text": [
      "Index(['Domain', 'Area', 'Element', 'Item', 'Year', 'Unit', 'Value'], dtype='object')\n",
      "Index(['Area', 'Year', 'average_rain_fall_mm_per_year'], dtype='object')\n",
      "Index(['year', 'country', 'avg_temp'], dtype='object')\n",
      "Index(['Domain Code', 'Domain', 'Area Code', 'Area', 'Element Code', 'Element',\n",
      "       'Item Code', 'Item', 'Year Code', 'Year', 'Unit', 'Value'],\n",
      "      dtype='object')\n"
     ]
    }
   ],
   "source": [
    "rain_df.rename(columns = {' Area':'Area'},inplace = True)\n",
    "for df in data_frames:\n",
    "    print(df.columns)"
   ]
  },
  {
   "cell_type": "code",
   "execution_count": 7,
   "id": "134cd4ed",
   "metadata": {
    "execution": {
     "iopub.execute_input": "2023-08-23T13:38:50.174873Z",
     "iopub.status.busy": "2023-08-23T13:38:50.174394Z",
     "iopub.status.idle": "2023-08-23T13:38:50.182523Z",
     "shell.execute_reply": "2023-08-23T13:38:50.181611Z"
    },
    "papermill": {
     "duration": 0.026838,
     "end_time": "2023-08-23T13:38:50.184817",
     "exception": false,
     "start_time": "2023-08-23T13:38:50.157979",
     "status": "completed"
    },
    "tags": []
   },
   "outputs": [
    {
     "data": {
      "text/plain": [
       "Index(['Year', 'Area', 'avg_temp'], dtype='object')"
      ]
     },
     "execution_count": 7,
     "metadata": {},
     "output_type": "execute_result"
    }
   ],
   "source": [
    "temp_df.rename(columns = {'year':'Year','country':'Area'},inplace = True)\n",
    "temp_df.columns"
   ]
  },
  {
   "cell_type": "code",
   "execution_count": 8,
   "id": "bfbec7fd",
   "metadata": {
    "execution": {
     "iopub.execute_input": "2023-08-23T13:38:50.218303Z",
     "iopub.status.busy": "2023-08-23T13:38:50.217093Z",
     "iopub.status.idle": "2023-08-23T13:38:50.361377Z",
     "shell.execute_reply": "2023-08-23T13:38:50.360352Z"
    },
    "papermill": {
     "duration": 0.164099,
     "end_time": "2023-08-23T13:38:50.364381",
     "exception": false,
     "start_time": "2023-08-23T13:38:50.200282",
     "status": "completed"
    },
    "tags": []
   },
   "outputs": [
    {
     "name": "stdout",
     "output_type": "stream",
     "text": [
      "Index(['Area', 'Element', 'Item', 'Year', 'Value_x', 'Value_y',\n",
      "       'average_rain_fall_mm_per_year', 'avg_temp'],\n",
      "      dtype='object')\n"
     ]
    },
    {
     "data": {
      "text/html": [
       "<div>\n",
       "<style scoped>\n",
       "    .dataframe tbody tr th:only-of-type {\n",
       "        vertical-align: middle;\n",
       "    }\n",
       "\n",
       "    .dataframe tbody tr th {\n",
       "        vertical-align: top;\n",
       "    }\n",
       "\n",
       "    .dataframe thead th {\n",
       "        text-align: right;\n",
       "    }\n",
       "</style>\n",
       "<table border=\"1\" class=\"dataframe\">\n",
       "  <thead>\n",
       "    <tr style=\"text-align: right;\">\n",
       "      <th></th>\n",
       "      <th>Area</th>\n",
       "      <th>Element</th>\n",
       "      <th>Item</th>\n",
       "      <th>Year</th>\n",
       "      <th>Value_x</th>\n",
       "      <th>Value_y</th>\n",
       "      <th>average_rain_fall_mm_per_year</th>\n",
       "      <th>avg_temp</th>\n",
       "    </tr>\n",
       "  </thead>\n",
       "  <tbody>\n",
       "    <tr>\n",
       "      <th>2713</th>\n",
       "      <td>Brazil</td>\n",
       "      <td>Yield</td>\n",
       "      <td>Sweet potatoes</td>\n",
       "      <td>1991</td>\n",
       "      <td>101504</td>\n",
       "      <td>58349.44</td>\n",
       "      <td>1761</td>\n",
       "      <td>21.43</td>\n",
       "    </tr>\n",
       "    <tr>\n",
       "      <th>13278</th>\n",
       "      <td>India</td>\n",
       "      <td>Yield</td>\n",
       "      <td>Soybeans</td>\n",
       "      <td>2006</td>\n",
       "      <td>10628</td>\n",
       "      <td>37423.00</td>\n",
       "      <td>1083</td>\n",
       "      <td>27.15</td>\n",
       "    </tr>\n",
       "    <tr>\n",
       "      <th>21589</th>\n",
       "      <td>Niger</td>\n",
       "      <td>Yield</td>\n",
       "      <td>Sorghum</td>\n",
       "      <td>2002</td>\n",
       "      <td>2989</td>\n",
       "      <td>29.44</td>\n",
       "      <td>151</td>\n",
       "      <td>29.71</td>\n",
       "    </tr>\n",
       "    <tr>\n",
       "      <th>15211</th>\n",
       "      <td>Indonesia</td>\n",
       "      <td>Yield</td>\n",
       "      <td>Maize</td>\n",
       "      <td>2009</td>\n",
       "      <td>42372</td>\n",
       "      <td>1597.00</td>\n",
       "      <td>2702</td>\n",
       "      <td>27.31</td>\n",
       "    </tr>\n",
       "    <tr>\n",
       "      <th>12074</th>\n",
       "      <td>India</td>\n",
       "      <td>Yield</td>\n",
       "      <td>Wheat</td>\n",
       "      <td>1998</td>\n",
       "      <td>24852</td>\n",
       "      <td>49157.00</td>\n",
       "      <td>1083</td>\n",
       "      <td>26.01</td>\n",
       "    </tr>\n",
       "    <tr>\n",
       "      <th>563</th>\n",
       "      <td>Argentina</td>\n",
       "      <td>Yield</td>\n",
       "      <td>Soybeans</td>\n",
       "      <td>2001</td>\n",
       "      <td>25846</td>\n",
       "      <td>63700.17</td>\n",
       "      <td>591</td>\n",
       "      <td>17.71</td>\n",
       "    </tr>\n",
       "    <tr>\n",
       "      <th>5635</th>\n",
       "      <td>Canada</td>\n",
       "      <td>Yield</td>\n",
       "      <td>Maize</td>\n",
       "      <td>1992</td>\n",
       "      <td>56927</td>\n",
       "      <td>29387.00</td>\n",
       "      <td>537</td>\n",
       "      <td>3.69</td>\n",
       "    </tr>\n",
       "    <tr>\n",
       "      <th>12523</th>\n",
       "      <td>India</td>\n",
       "      <td>Yield</td>\n",
       "      <td>Rice, paddy</td>\n",
       "      <td>2001</td>\n",
       "      <td>31158</td>\n",
       "      <td>43720.04</td>\n",
       "      <td>1083</td>\n",
       "      <td>26.32</td>\n",
       "    </tr>\n",
       "    <tr>\n",
       "      <th>3042</th>\n",
       "      <td>Brazil</td>\n",
       "      <td>Yield</td>\n",
       "      <td>Yams</td>\n",
       "      <td>1994</td>\n",
       "      <td>91667</td>\n",
       "      <td>84312.78</td>\n",
       "      <td>1761</td>\n",
       "      <td>25.42</td>\n",
       "    </tr>\n",
       "    <tr>\n",
       "      <th>11315</th>\n",
       "      <td>India</td>\n",
       "      <td>Yield</td>\n",
       "      <td>Sorghum</td>\n",
       "      <td>1994</td>\n",
       "      <td>7786</td>\n",
       "      <td>61357.00</td>\n",
       "      <td>1083</td>\n",
       "      <td>25.71</td>\n",
       "    </tr>\n",
       "  </tbody>\n",
       "</table>\n",
       "</div>"
      ],
      "text/plain": [
       "            Area Element            Item  Year  Value_x   Value_y  \\\n",
       "2713      Brazil   Yield  Sweet potatoes  1991   101504  58349.44   \n",
       "13278      India   Yield        Soybeans  2006    10628  37423.00   \n",
       "21589      Niger   Yield         Sorghum  2002     2989     29.44   \n",
       "15211  Indonesia   Yield           Maize  2009    42372   1597.00   \n",
       "12074      India   Yield           Wheat  1998    24852  49157.00   \n",
       "563    Argentina   Yield        Soybeans  2001    25846  63700.17   \n",
       "5635      Canada   Yield           Maize  1992    56927  29387.00   \n",
       "12523      India   Yield     Rice, paddy  2001    31158  43720.04   \n",
       "3042      Brazil   Yield            Yams  1994    91667  84312.78   \n",
       "11315      India   Yield         Sorghum  1994     7786  61357.00   \n",
       "\n",
       "      average_rain_fall_mm_per_year  avg_temp  \n",
       "2713                           1761     21.43  \n",
       "13278                          1083     27.15  \n",
       "21589                           151     29.71  \n",
       "15211                          2702     27.31  \n",
       "12074                          1083     26.01  \n",
       "563                             591     17.71  \n",
       "5635                            537      3.69  \n",
       "12523                          1083     26.32  \n",
       "3042                           1761     25.42  \n",
       "11315                          1083     25.71  "
      ]
     },
     "execution_count": 8,
     "metadata": {},
     "output_type": "execute_result"
    }
   ],
   "source": [
    "# Merging our datasets into 1 single dataframe\n",
    "pr=pd.merge(pest_df,rain_df,on=['Year','Area'])\n",
    "prt=pd.merge(pr,temp_df,on=['Year','Area'])\n",
    "prty=pd.merge(yield_df,prt,on=['Year','Area'])\n",
    "print(prty.columns)\n",
    "prty.sample(10)"
   ]
  },
  {
   "cell_type": "code",
   "execution_count": 9,
   "id": "670dfc29",
   "metadata": {
    "execution": {
     "iopub.execute_input": "2023-08-23T13:38:50.397519Z",
     "iopub.status.busy": "2023-08-23T13:38:50.397117Z",
     "iopub.status.idle": "2023-08-23T13:38:50.409543Z",
     "shell.execute_reply": "2023-08-23T13:38:50.408282Z"
    },
    "papermill": {
     "duration": 0.031669,
     "end_time": "2023-08-23T13:38:50.411792",
     "exception": false,
     "start_time": "2023-08-23T13:38:50.380123",
     "status": "completed"
    },
    "tags": []
   },
   "outputs": [
    {
     "name": "stdout",
     "output_type": "stream",
     "text": [
      "Index(['Area', 'Element', 'Item', 'Year', 'hg/ha_yield', 'pesticides_tonnes',\n",
      "       'average_rain_fall_mm_per_year', 'avg_temp'],\n",
      "      dtype='object')\n"
     ]
    }
   ],
   "source": [
    "prty.rename(columns={'Value_y':'pesticides_tonnes','Value_x':'hg/ha_yield'},inplace=True)\n",
    "print(prty.columns)"
   ]
  },
  {
   "cell_type": "markdown",
   "id": "69f68b2c",
   "metadata": {
    "papermill": {
     "duration": 0.01543,
     "end_time": "2023-08-23T13:38:50.443529",
     "exception": false,
     "start_time": "2023-08-23T13:38:50.428099",
     "status": "completed"
    },
    "tags": []
   },
   "source": [
    "### Descriptive Data Analysis"
   ]
  },
  {
   "cell_type": "code",
   "execution_count": 10,
   "id": "e30f2120",
   "metadata": {
    "execution": {
     "iopub.execute_input": "2023-08-23T13:38:50.480411Z",
     "iopub.status.busy": "2023-08-23T13:38:50.479369Z",
     "iopub.status.idle": "2023-08-23T13:38:50.487423Z",
     "shell.execute_reply": "2023-08-23T13:38:50.486206Z"
    },
    "papermill": {
     "duration": 0.03035,
     "end_time": "2023-08-23T13:38:50.489754",
     "exception": false,
     "start_time": "2023-08-23T13:38:50.459404",
     "status": "completed"
    },
    "tags": []
   },
   "outputs": [
    {
     "data": {
      "text/plain": [
       "(28248, 8)"
      ]
     },
     "execution_count": 10,
     "metadata": {},
     "output_type": "execute_result"
    }
   ],
   "source": [
    "prty.shape"
   ]
  },
  {
   "cell_type": "code",
   "execution_count": 11,
   "id": "33900bc1",
   "metadata": {
    "execution": {
     "iopub.execute_input": "2023-08-23T13:38:50.524290Z",
     "iopub.status.busy": "2023-08-23T13:38:50.522990Z",
     "iopub.status.idle": "2023-08-23T13:38:50.553739Z",
     "shell.execute_reply": "2023-08-23T13:38:50.552562Z"
    },
    "papermill": {
     "duration": 0.050692,
     "end_time": "2023-08-23T13:38:50.556333",
     "exception": false,
     "start_time": "2023-08-23T13:38:50.505641",
     "status": "completed"
    },
    "tags": []
   },
   "outputs": [
    {
     "data": {
      "text/html": [
       "<div>\n",
       "<style scoped>\n",
       "    .dataframe tbody tr th:only-of-type {\n",
       "        vertical-align: middle;\n",
       "    }\n",
       "\n",
       "    .dataframe tbody tr th {\n",
       "        vertical-align: top;\n",
       "    }\n",
       "\n",
       "    .dataframe thead th {\n",
       "        text-align: right;\n",
       "    }\n",
       "</style>\n",
       "<table border=\"1\" class=\"dataframe\">\n",
       "  <thead>\n",
       "    <tr style=\"text-align: right;\">\n",
       "      <th></th>\n",
       "      <th>Year</th>\n",
       "      <th>hg/ha_yield</th>\n",
       "      <th>pesticides_tonnes</th>\n",
       "      <th>avg_temp</th>\n",
       "    </tr>\n",
       "  </thead>\n",
       "  <tbody>\n",
       "    <tr>\n",
       "      <th>count</th>\n",
       "      <td>28248.000000</td>\n",
       "      <td>28248.000000</td>\n",
       "      <td>28248.000000</td>\n",
       "      <td>28248.000000</td>\n",
       "    </tr>\n",
       "    <tr>\n",
       "      <th>mean</th>\n",
       "      <td>2001.541950</td>\n",
       "      <td>77047.863282</td>\n",
       "      <td>37069.136973</td>\n",
       "      <td>20.543722</td>\n",
       "    </tr>\n",
       "    <tr>\n",
       "      <th>std</th>\n",
       "      <td>7.052997</td>\n",
       "      <td>84950.194454</td>\n",
       "      <td>59954.787836</td>\n",
       "      <td>6.311828</td>\n",
       "    </tr>\n",
       "    <tr>\n",
       "      <th>min</th>\n",
       "      <td>1990.000000</td>\n",
       "      <td>50.000000</td>\n",
       "      <td>0.040000</td>\n",
       "      <td>1.300000</td>\n",
       "    </tr>\n",
       "    <tr>\n",
       "      <th>25%</th>\n",
       "      <td>1995.000000</td>\n",
       "      <td>19918.750000</td>\n",
       "      <td>1695.710000</td>\n",
       "      <td>16.710000</td>\n",
       "    </tr>\n",
       "    <tr>\n",
       "      <th>50%</th>\n",
       "      <td>2001.000000</td>\n",
       "      <td>38295.000000</td>\n",
       "      <td>17517.760000</td>\n",
       "      <td>21.510000</td>\n",
       "    </tr>\n",
       "    <tr>\n",
       "      <th>75%</th>\n",
       "      <td>2008.000000</td>\n",
       "      <td>104598.250000</td>\n",
       "      <td>48687.880000</td>\n",
       "      <td>26.000000</td>\n",
       "    </tr>\n",
       "    <tr>\n",
       "      <th>max</th>\n",
       "      <td>2013.000000</td>\n",
       "      <td>501412.000000</td>\n",
       "      <td>367778.000000</td>\n",
       "      <td>30.650000</td>\n",
       "    </tr>\n",
       "  </tbody>\n",
       "</table>\n",
       "</div>"
      ],
      "text/plain": [
       "               Year    hg/ha_yield  pesticides_tonnes      avg_temp\n",
       "count  28248.000000   28248.000000       28248.000000  28248.000000\n",
       "mean    2001.541950   77047.863282       37069.136973     20.543722\n",
       "std        7.052997   84950.194454       59954.787836      6.311828\n",
       "min     1990.000000      50.000000           0.040000      1.300000\n",
       "25%     1995.000000   19918.750000        1695.710000     16.710000\n",
       "50%     2001.000000   38295.000000       17517.760000     21.510000\n",
       "75%     2008.000000  104598.250000       48687.880000     26.000000\n",
       "max     2013.000000  501412.000000      367778.000000     30.650000"
      ]
     },
     "execution_count": 11,
     "metadata": {},
     "output_type": "execute_result"
    }
   ],
   "source": [
    "prty.describe()"
   ]
  },
  {
   "cell_type": "code",
   "execution_count": 12,
   "id": "abacb765",
   "metadata": {
    "execution": {
     "iopub.execute_input": "2023-08-23T13:38:50.593152Z",
     "iopub.status.busy": "2023-08-23T13:38:50.592632Z",
     "iopub.status.idle": "2023-08-23T13:38:50.643592Z",
     "shell.execute_reply": "2023-08-23T13:38:50.641776Z"
    },
    "papermill": {
     "duration": 0.071937,
     "end_time": "2023-08-23T13:38:50.646171",
     "exception": false,
     "start_time": "2023-08-23T13:38:50.574234",
     "status": "completed"
    },
    "tags": []
   },
   "outputs": [
    {
     "name": "stdout",
     "output_type": "stream",
     "text": [
      "<class 'pandas.core.frame.DataFrame'>\n",
      "RangeIndex: 28248 entries, 0 to 28247\n",
      "Data columns (total 8 columns):\n",
      " #   Column                         Non-Null Count  Dtype  \n",
      "---  ------                         --------------  -----  \n",
      " 0   Area                           28248 non-null  object \n",
      " 1   Element                        28248 non-null  object \n",
      " 2   Item                           28248 non-null  object \n",
      " 3   Year                           28248 non-null  int64  \n",
      " 4   hg/ha_yield                    28248 non-null  int64  \n",
      " 5   pesticides_tonnes              28248 non-null  float64\n",
      " 6   average_rain_fall_mm_per_year  28248 non-null  object \n",
      " 7   avg_temp                       28248 non-null  float64\n",
      "dtypes: float64(2), int64(2), object(4)\n",
      "memory usage: 1.7+ MB\n"
     ]
    }
   ],
   "source": [
    "prty.info()"
   ]
  },
  {
   "cell_type": "markdown",
   "id": "e6f6ec9a",
   "metadata": {
    "papermill": {
     "duration": 0.016785,
     "end_time": "2023-08-23T13:38:50.679358",
     "exception": false,
     "start_time": "2023-08-23T13:38:50.662573",
     "status": "completed"
    },
    "tags": []
   },
   "source": [
    "**Here, the data for our rainfall is of Object data type but is desired in integer format**"
   ]
  },
  {
   "cell_type": "code",
   "execution_count": 13,
   "id": "0d420280",
   "metadata": {
    "execution": {
     "iopub.execute_input": "2023-08-23T13:38:50.714441Z",
     "iopub.status.busy": "2023-08-23T13:38:50.714038Z",
     "iopub.status.idle": "2023-08-23T13:38:50.751096Z",
     "shell.execute_reply": "2023-08-23T13:38:50.749915Z"
    },
    "papermill": {
     "duration": 0.057675,
     "end_time": "2023-08-23T13:38:50.753429",
     "exception": false,
     "start_time": "2023-08-23T13:38:50.695754",
     "status": "completed"
    },
    "tags": []
   },
   "outputs": [
    {
     "data": {
      "text/plain": [
       "0.0"
      ]
     },
     "execution_count": 13,
     "metadata": {},
     "output_type": "execute_result"
    }
   ],
   "source": [
    "prty.isnull().sum().sum()/prty.shape[0]"
   ]
  },
  {
   "cell_type": "markdown",
   "id": "afa0a5b9",
   "metadata": {
    "papermill": {
     "duration": 0.017052,
     "end_time": "2023-08-23T13:38:50.787439",
     "exception": false,
     "start_time": "2023-08-23T13:38:50.770387",
     "status": "completed"
    },
    "tags": []
   },
   "source": [
    "**There is no need of null value imputation as no null cells**"
   ]
  },
  {
   "cell_type": "code",
   "execution_count": 14,
   "id": "6da73917",
   "metadata": {
    "execution": {
     "iopub.execute_input": "2023-08-23T13:38:50.925718Z",
     "iopub.status.busy": "2023-08-23T13:38:50.924978Z",
     "iopub.status.idle": "2023-08-23T13:38:50.964955Z",
     "shell.execute_reply": "2023-08-23T13:38:50.963447Z"
    },
    "papermill": {
     "duration": 0.060977,
     "end_time": "2023-08-23T13:38:50.967638",
     "exception": false,
     "start_time": "2023-08-23T13:38:50.906661",
     "status": "completed"
    },
    "tags": []
   },
   "outputs": [
    {
     "name": "stdout",
     "output_type": "stream",
     "text": [
      "['Year', 'hg/ha_yield', 'pesticides_tonnes', 'average_rain_fall_mm_per_year', 'avg_temp']\n",
      "['Area', 'Element', 'Item']\n"
     ]
    }
   ],
   "source": [
    "#converting the datatype of rainfall data to a desirable type\n",
    "prty['average_rain_fall_mm_per_year'] = prty['average_rain_fall_mm_per_year'].replace('..',np.nan)\n",
    "prty['average_rain_fall_mm_per_year'] = prty['average_rain_fall_mm_per_year'].astype('float')\n",
    "prty=prty.dropna()\n",
    "#filtering out the numerical and categorical columns, that will be useful for our \n",
    "#feature scaling and EDA\n",
    "num_cols = [i for i in prty.columns if (prty[i].dtype == 'float64' or prty[i].dtype == 'int64')]\n",
    "cat_cols = [i for i in prty.columns if (i not in num_cols) and i != 'hg/ha_yield']\n",
    "print(num_cols)\n",
    "print(cat_cols)"
   ]
  },
  {
   "cell_type": "code",
   "execution_count": 15,
   "id": "0a83f640",
   "metadata": {},
   "outputs": [],
   "source": [
    "prty['Item']=prty['Item'].replace('Rice,paddy','Rice')\n",
    "prty['Item']=prty['Item'].replace('Plantains and others','Plantains and Bananas')\n",
    "prty['Item']=prty['Item'].replace('Potatoes','Apple')\n",
    "prty['Item']=prty['Item'].replace('Wheat','lentil')\n",
    "prty['Item']=prty['Item'].replace('Yams','mungbean')"
   ]
  },
  {
   "cell_type": "code",
   "execution_count": 16,
   "id": "ad80756b",
   "metadata": {},
   "outputs": [],
   "source": [
    "prty.to_csv('Datasets/Crop_Yield_dataset/prty.csv')"
   ]
  },
  {
   "cell_type": "markdown",
   "id": "0f945528",
   "metadata": {
    "papermill": {
     "duration": 0.016877,
     "end_time": "2023-08-23T13:38:51.001865",
     "exception": false,
     "start_time": "2023-08-23T13:38:50.984988",
     "status": "completed"
    },
    "tags": []
   },
   "source": [
    "# Exploratory Data Analysis\n",
    "Here onwards, we have some detailed visual analysis of several patterns in our data. We have used multiple data analytics and visualization techniques and plotted several insightful results! Stay glued for the upcoming, intriguing insights !"
   ]
  },
  {
   "cell_type": "code",
   "execution_count": null,
   "id": "0cc11bfa",
   "metadata": {
    "execution": {
     "iopub.execute_input": "2023-08-23T13:38:51.037470Z",
     "iopub.status.busy": "2023-08-23T13:38:51.036375Z",
     "iopub.status.idle": "2023-08-23T13:38:52.254483Z",
     "shell.execute_reply": "2023-08-23T13:38:52.253323Z"
    },
    "papermill": {
     "duration": 1.238657,
     "end_time": "2023-08-23T13:38:52.257096",
     "exception": false,
     "start_time": "2023-08-23T13:38:51.018439",
     "status": "completed"
    },
    "tags": []
   },
   "outputs": [],
   "source": [
    "plt.figure(figsize=(12, 16))\n",
    "for i, col in enumerate(num_cols, 1):\n",
    "    plt.subplot(3, 2, i)\n",
    "    sns.boxplot(data=prty[col])\n",
    "    plt.title(f'Box Plot of {col}')\n",
    "    plt.ylabel('Value')\n",
    "\n",
    "plt.tight_layout()\n",
    "plt.show()"
   ]
  },
  {
   "cell_type": "code",
   "execution_count": null,
   "id": "53b9cbfa",
   "metadata": {
    "execution": {
     "iopub.execute_input": "2023-08-23T13:38:52.294995Z",
     "iopub.status.busy": "2023-08-23T13:38:52.294526Z",
     "iopub.status.idle": "2023-08-23T13:38:52.698587Z",
     "shell.execute_reply": "2023-08-23T13:38:52.697292Z"
    },
    "papermill": {
     "duration": 0.426321,
     "end_time": "2023-08-23T13:38:52.701314",
     "exception": false,
     "start_time": "2023-08-23T13:38:52.274993",
     "status": "completed"
    },
    "tags": []
   },
   "outputs": [],
   "source": [
    "plt.figure(figsize=(10,6))\n",
    "sns.countplot(x='Item',data=prty)\n",
    "plt.title('Countplot of Item vs its count')\n",
    "plt.xlabel('Crops',fontsize=18,loc='center')\n",
    "plt.ylabel('Count',fontsize=18,loc='center')\n",
    "plt.xticks(rotation=45)\n",
    "plt.show()"
   ]
  },
  {
   "cell_type": "code",
   "execution_count": null,
   "id": "1664d055",
   "metadata": {
    "execution": {
     "iopub.execute_input": "2023-08-23T13:38:52.743753Z",
     "iopub.status.busy": "2023-08-23T13:38:52.743299Z",
     "iopub.status.idle": "2023-08-23T13:45:27.600952Z",
     "shell.execute_reply": "2023-08-23T13:45:27.599413Z"
    },
    "papermill": {
     "duration": 394.941947,
     "end_time": "2023-08-23T13:45:27.663175",
     "exception": false,
     "start_time": "2023-08-23T13:38:52.721228",
     "status": "completed"
    },
    "tags": []
   },
   "outputs": [],
   "source": [
    "fig, axes = plt.subplots(3, 1, figsize=(18, 22))\n",
    "sns.lineplot(x = \"pesticides_tonnes\", y = \"hg/ha_yield\", hue = \"Item\", data = prty, ax=axes[0], legend = True)\n",
    "axes[0].tick_params(axis='x', rotation=45)\n",
    "axes[0].set_ylabel('Average Yield')\n",
    "axes[0].legend(bbox_to_anchor=(1.05, 1), loc='upper left')\n",
    "\n",
    "sns.lineplot(x = \"average_rain_fall_mm_per_year\", y = \"hg/ha_yield\", hue = \"Item\", data = prty, ax=axes[1], legend = True)\n",
    "axes[1].tick_params(axis='x', rotation=45)\n",
    "axes[1].set_ylabel('Average Yield')\n",
    "axes[1].legend(bbox_to_anchor=(1.05, 1), loc='upper left')\n",
    "\n",
    "sns.lineplot(x = \"avg_temp\", y = \"hg/ha_yield\", hue = \"Item\", data = prty, ax=axes[2], legend = True)\n",
    "axes[2].tick_params(axis='x', rotation=45)\n",
    "axes[2].set_ylabel('Average Yield')\n",
    "axes[2].legend(bbox_to_anchor=(1.05, 1), loc='upper left')\n",
    "\n",
    "plt.tight_layout()\n",
    "plt.show()"
   ]
  },
  {
   "cell_type": "code",
   "execution_count": null,
   "id": "7531fb97",
   "metadata": {
    "execution": {
     "iopub.execute_input": "2023-08-23T13:45:27.755816Z",
     "iopub.status.busy": "2023-08-23T13:45:27.755059Z",
     "iopub.status.idle": "2023-08-23T13:45:28.733179Z",
     "shell.execute_reply": "2023-08-23T13:45:28.731809Z"
    },
    "papermill": {
     "duration": 1.027206,
     "end_time": "2023-08-23T13:45:28.735798",
     "exception": false,
     "start_time": "2023-08-23T13:45:27.708592",
     "status": "completed"
    },
    "tags": []
   },
   "outputs": [],
   "source": [
    "df=prty.copy()\n",
    "df['yield_rainfall_ratio'] = df['hg/ha_yield'] / df['average_rain_fall_mm_per_year']\n",
    "\n",
    "top_10_crops = df.groupby('Item')['yield_rainfall_ratio'].mean().sort_values(ascending=False).head(10).index\n",
    "\n",
    "# Filter the data to only include the top 10 crops\n",
    "top_10_data = df[df['Item'].isin(top_10_crops)]\n",
    "\n",
    "sns.barplot(data=top_10_data, x='Item', y='yield_rainfall_ratio', order=top_10_crops)\n",
    "plt.xlabel('Crops',fontsize=18)\n",
    "plt.ylabel('Yield/Average Rainfall',fontsize=18)\n",
    "plt.xticks(rotation=45)\n",
    "plt.show()"
   ]
  },
  {
   "cell_type": "code",
   "execution_count": null,
   "id": "87a5c1ca",
   "metadata": {
    "execution": {
     "iopub.execute_input": "2023-08-23T13:45:28.834064Z",
     "iopub.status.busy": "2023-08-23T13:45:28.832878Z",
     "iopub.status.idle": "2023-08-23T13:45:29.225741Z",
     "shell.execute_reply": "2023-08-23T13:45:29.224502Z"
    },
    "papermill": {
     "duration": 0.444562,
     "end_time": "2023-08-23T13:45:29.228248",
     "exception": false,
     "start_time": "2023-08-23T13:45:28.783686",
     "status": "completed"
    },
    "tags": []
   },
   "outputs": [],
   "source": [
    "df=prty.copy()\n",
    "df['yield_rainfall_ratio'] = df['hg/ha_yield'] / df['average_rain_fall_mm_per_year']\n",
    "\n",
    "top_10_countries = df.groupby('Area')['yield_rainfall_ratio'].mean().sort_values(ascending=False).head(10).index\n",
    "top_10_data = df[df['Area'].isin(top_10_countries)]\n",
    "\n",
    "sns.boxplot(data=top_10_data, x='Area', y='yield_rainfall_ratio', order=top_10_countries)\n",
    "plt.xlabel('Countries',fontsize=18)\n",
    "plt.ylabel('Yield/Average Rainfall',fontsize=18)\n",
    "plt.xticks(rotation=45)\n",
    "plt.show()"
   ]
  },
  {
   "cell_type": "code",
   "execution_count": null,
   "id": "7e389d74",
   "metadata": {
    "execution": {
     "iopub.execute_input": "2023-08-23T13:45:29.325476Z",
     "iopub.status.busy": "2023-08-23T13:45:29.324702Z",
     "iopub.status.idle": "2023-08-23T13:45:29.747256Z",
     "shell.execute_reply": "2023-08-23T13:45:29.746007Z"
    },
    "papermill": {
     "duration": 0.475032,
     "end_time": "2023-08-23T13:45:29.750312",
     "exception": false,
     "start_time": "2023-08-23T13:45:29.275280",
     "status": "completed"
    },
    "tags": []
   },
   "outputs": [],
   "source": [
    "plt.figure(figsize=(7,7))\n",
    "sns.heatmap(prty[num_cols].corr(), annot=True,linewidth=.5,cmap='crest')\n",
    "plt.show()"
   ]
  },
  {
   "cell_type": "code",
   "execution_count": null,
   "id": "7d2c002c",
   "metadata": {
    "execution": {
     "iopub.execute_input": "2023-08-23T13:45:29.849978Z",
     "iopub.status.busy": "2023-08-23T13:45:29.849566Z",
     "iopub.status.idle": "2023-08-23T13:45:34.342508Z",
     "shell.execute_reply": "2023-08-23T13:45:34.340894Z"
    },
    "papermill": {
     "duration": 4.569506,
     "end_time": "2023-08-23T13:45:34.368972",
     "exception": false,
     "start_time": "2023-08-23T13:45:29.799466",
     "status": "completed"
    },
    "tags": []
   },
   "outputs": [],
   "source": [
    "fig, axes = plt.subplots(3, 1, figsize=(18, 22))\n",
    "\n",
    "sns.scatterplot(x = \"pesticides_tonnes\", y = \"hg/ha_yield\", hue = \"Item\", data = prty, ax=axes[0], legend = True)\n",
    "axes[0].tick_params(axis='x', rotation=45)\n",
    "axes[0].set_ylabel('Average Yield')\n",
    "axes[0].legend(bbox_to_anchor=(1.05, 1), loc='upper left')\n",
    "\n",
    "sns.scatterplot(x = \"average_rain_fall_mm_per_year\", y = \"hg/ha_yield\", hue = \"Item\", data = prty, ax=axes[1], legend = True)\n",
    "axes[1].tick_params(axis='x', rotation=45)\n",
    "axes[1].set_ylabel('Average Yield')\n",
    "axes[1].legend(bbox_to_anchor=(1.05, 1), loc='upper left')\n",
    "\n",
    "sns.scatterplot(x = \"avg_temp\", y = \"hg/ha_yield\", hue = \"Item\", data = prty, ax=axes[2], legend = True)\n",
    "axes[2].tick_params(axis='x', rotation=45)\n",
    "axes[2].set_ylabel('Average Yield')\n",
    "axes[2].legend(bbox_to_anchor=(1.05, 1), loc='upper left')\n",
    "\n",
    "plt.tight_layout()\n",
    "plt.show()"
   ]
  },
  {
   "cell_type": "code",
   "execution_count": null,
   "id": "2f15277a",
   "metadata": {
    "execution": {
     "iopub.execute_input": "2023-08-23T13:45:34.546302Z",
     "iopub.status.busy": "2023-08-23T13:45:34.545868Z",
     "iopub.status.idle": "2023-08-23T13:45:34.552639Z",
     "shell.execute_reply": "2023-08-23T13:45:34.551797Z"
    },
    "papermill": {
     "duration": 0.092915,
     "end_time": "2023-08-23T13:45:34.554809",
     "exception": false,
     "start_time": "2023-08-23T13:45:34.461894",
     "status": "completed"
    },
    "tags": []
   },
   "outputs": [],
   "source": [
    "prty.columns"
   ]
  },
  {
   "cell_type": "markdown",
   "id": "fae9773f",
   "metadata": {
    "papermill": {
     "duration": 0.089189,
     "end_time": "2023-08-23T13:45:34.738212",
     "exception": false,
     "start_time": "2023-08-23T13:45:34.649023",
     "status": "completed"
    },
    "tags": []
   },
   "source": [
    "# Data Preprocessing"
   ]
  },
  {
   "cell_type": "code",
   "execution_count": 29,
   "id": "4b7bae04",
   "metadata": {
    "execution": {
     "iopub.execute_input": "2023-08-23T13:45:34.910292Z",
     "iopub.status.busy": "2023-08-23T13:45:34.909483Z",
     "iopub.status.idle": "2023-08-23T13:45:35.571013Z",
     "shell.execute_reply": "2023-08-23T13:45:35.569899Z"
    },
    "papermill": {
     "duration": 0.750664,
     "end_time": "2023-08-23T13:45:35.573870",
     "exception": false,
     "start_time": "2023-08-23T13:45:34.823206",
     "status": "completed"
    },
    "tags": []
   },
   "outputs": [],
   "source": [
    "from sklearn.impute import SimpleImputer\n",
    "from sklearn.preprocessing import OneHotEncoder, StandardScaler\n",
    "from sklearn.preprocessing import LabelEncoder\n",
    "\n",
    "# First, we have performed one hot encoding on the categorical features, and then\n",
    "# performed standard scaling on all the features\n",
    "prty=prty.drop('Year',axis=True)\n",
    "X,y=prty.drop('hg/ha_yield',axis=1),prty['hg/ha_yield']\n",
    "# X.shape, y.shape\n",
    "encoder = OneHotEncoder(sparse_output=False, drop='first')\n",
    "\n",
    "# Assuming 'prty' is your DataFrame\n",
    "X, y = prty.drop('hg/ha_yield', axis=1), prty['hg/ha_yield']\n",
    "\n",
    "# Define the categorical columns you want to label encode\n",
    "cat_cols = ['Item', 'Area', 'Element']\n",
    "\n",
    "# Initialize LabelEncoder for each categorical column\n",
    "label_encoders = {}\n",
    "for col in cat_cols:\n",
    "    le = LabelEncoder()\n",
    "    X[col] = le.fit_transform(X[col])  # Transform the column in-place\n",
    "    label_encoders[col] = le  # Save the label encoder for later\n",
    "    \n",
    "scaler = StandardScaler()\n",
    "X = scaler.fit_transform(X)"
   ]
  },
  {
   "cell_type": "code",
   "execution_count": 69,
   "id": "f1113272",
   "metadata": {},
   "outputs": [
    {
     "data": {
      "text/plain": [
       "array([-1.43567765,  0.        , -1.12911544, -0.61030202,  0.20138645,\n",
       "        0.82183515])"
      ]
     },
     "execution_count": 69,
     "metadata": {},
     "output_type": "execute_result"
    }
   ],
   "source": [
    "X[1992]"
   ]
  },
  {
   "cell_type": "code",
   "execution_count": 30,
   "id": "e36a80d5",
   "metadata": {
    "execution": {
     "iopub.execute_input": "2023-08-23T13:45:35.742182Z",
     "iopub.status.busy": "2023-08-23T13:45:35.741150Z",
     "iopub.status.idle": "2023-08-23T13:45:35.748457Z",
     "shell.execute_reply": "2023-08-23T13:45:35.747308Z"
    },
    "papermill": {
     "duration": 0.0946,
     "end_time": "2023-08-23T13:45:35.750775",
     "exception": false,
     "start_time": "2023-08-23T13:45:35.656175",
     "status": "completed"
    },
    "tags": []
   },
   "outputs": [
    {
     "data": {
      "text/plain": [
       "((28242, 6), (28242,))"
      ]
     },
     "execution_count": 30,
     "metadata": {},
     "output_type": "execute_result"
    }
   ],
   "source": [
    "X.shape, y.shape"
   ]
  },
  {
   "cell_type": "code",
   "execution_count": 53,
   "id": "5e3e9e9f",
   "metadata": {},
   "outputs": [
    {
     "data": {
      "text/plain": [
       "['models/scaler.pkl']"
      ]
     },
     "execution_count": 53,
     "metadata": {},
     "output_type": "execute_result"
    }
   ],
   "source": [
    "joblib.dump(label_encoders, 'models/label_encoders.pkl')\n",
    "joblib.dump(scaler, 'models/scaler.pkl')"
   ]
  },
  {
   "cell_type": "code",
   "execution_count": null,
   "id": "c863532c",
   "metadata": {},
   "outputs": [],
   "source": []
  },
  {
   "cell_type": "code",
   "execution_count": 32,
   "id": "5e4dd531",
   "metadata": {
    "execution": {
     "iopub.execute_input": "2023-08-23T13:45:35.920004Z",
     "iopub.status.busy": "2023-08-23T13:45:35.919530Z",
     "iopub.status.idle": "2023-08-23T13:45:35.969267Z",
     "shell.execute_reply": "2023-08-23T13:45:35.967675Z"
    },
    "papermill": {
     "duration": 0.136707,
     "end_time": "2023-08-23T13:45:35.971646",
     "exception": false,
     "start_time": "2023-08-23T13:45:35.834939",
     "status": "completed"
    },
    "tags": []
   },
   "outputs": [
    {
     "name": "stdout",
     "output_type": "stream",
     "text": [
      "(22593, 6) (5649, 6)\n"
     ]
    }
   ],
   "source": [
    "from sklearn.model_selection import train_test_split\n",
    "\n",
    "X_train,X_test,y_train,y_test=train_test_split(X,y,random_state=42,test_size=0.20,shuffle=True)\n",
    "print(X_train.shape,X_test.shape)"
   ]
  },
  {
   "cell_type": "markdown",
   "id": "df303b45",
   "metadata": {
    "papermill": {
     "duration": 0.081172,
     "end_time": "2023-08-23T13:45:36.136666",
     "exception": false,
     "start_time": "2023-08-23T13:45:36.055494",
     "status": "completed"
    },
    "tags": []
   },
   "source": [
    "# Building our Initial model"
   ]
  },
  {
   "cell_type": "code",
   "execution_count": 24,
   "id": "f7f16d42",
   "metadata": {
    "execution": {
     "iopub.execute_input": "2023-08-23T13:45:36.304779Z",
     "iopub.status.busy": "2023-08-23T13:45:36.303976Z",
     "iopub.status.idle": "2023-08-23T13:47:43.197719Z",
     "shell.execute_reply": "2023-08-23T13:47:43.196013Z"
    },
    "papermill": {
     "duration": 127.115797,
     "end_time": "2023-08-23T13:47:43.335246",
     "exception": false,
     "start_time": "2023-08-23T13:45:36.219449",
     "status": "completed"
    },
    "tags": []
   },
   "outputs": [
    {
     "name": "stdout",
     "output_type": "stream",
     "text": [
      "3686681679.489396   0.49174960016152847\n"
     ]
    }
   ],
   "source": [
    "from sklearn.svm import SVR\n",
    "from sklearn.preprocessing import PolynomialFeatures\n",
    "from sklearn.linear_model import LinearRegression,Lasso\n",
    "from sklearn.ensemble import RandomForestRegressor\n",
    "import xgboost as xgb\n",
    "from sklearn.model_selection import GridSearchCV\n",
    "from sklearn.metrics import mean_squared_error, r2_score\n",
    "\n",
    "poly = PolynomialFeatures(degree=2, include_bias=False)  # You can adjust the degree as needed\n",
    "X_train_poly = poly.fit_transform(X_train)\n",
    "X_test_poly = poly.transform(X_test)\n",
    "\n",
    "# Fit a Linear Regression model\n",
    "lin_reg = LinearRegression()\n",
    "lin_reg.fit(X_train_poly, y_train)\n",
    "\n",
    "# Predict on the test set\n",
    "y_pred = lin_reg.predict(X_test_poly)\n",
    "\n",
    "# Evaluate the model\n",
    "mse = mean_squared_error(y_test, y_pred)\n",
    "r2 = r2_score(y_test, y_pred)\n",
    "print(mse,' ',r2)"
   ]
  },
  {
   "cell_type": "markdown",
   "id": "13527e0d",
   "metadata": {
    "papermill": {
     "duration": 0.084571,
     "end_time": "2023-08-23T13:47:43.504120",
     "exception": false,
     "start_time": "2023-08-23T13:47:43.419549",
     "status": "completed"
    },
    "tags": []
   },
   "source": [
    "# Trying multiple models and Hyperparameter Tuning "
   ]
  },
  {
   "cell_type": "code",
   "execution_count": 26,
   "id": "90371670",
   "metadata": {
    "execution": {
     "iopub.execute_input": "2023-08-23T13:47:43.677394Z",
     "iopub.status.busy": "2023-08-23T13:47:43.676956Z",
     "iopub.status.idle": "2023-08-23T13:47:43.685276Z",
     "shell.execute_reply": "2023-08-23T13:47:43.684101Z"
    },
    "papermill": {
     "duration": 0.097453,
     "end_time": "2023-08-23T13:47:43.687578",
     "exception": false,
     "start_time": "2023-08-23T13:47:43.590125",
     "status": "completed"
    },
    "tags": []
   },
   "outputs": [],
   "source": [
    "model_names=['svm_regressor','random_forest_regressor','lasso_regressor','XGBoost_Regressor']\n",
    "\n",
    "svr=SVR(kernel='rbf', gamma='auto')\n",
    "random_forest=RandomForestRegressor()\n",
    "lasso_regressor = Lasso(alpha=1.0, random_state=42,max_iter=3000)\n",
    "xgb_regressor = xgb.XGBRegressor(n_estimators=100, random_state=42)\n",
    "\n",
    "models = [svr, random_forest, lasso_regressor, xgb_regressor]\n",
    "\n",
    "model_params = [\n",
    "    {},  # SVR doesn't require hyperparameters here\n",
    "    {'n_estimators': [10, 50, 100]},  # RandomForestRegressor parameters\n",
    "    {'alpha': [0.1, 1.0, 10.0]},  # Lasso parameters\n",
    "    {'n_estimators': [50, 100, 200], 'learning_rate': [0.1, 0.5, 1.0]}  # XGBRegressor parameters\n",
    "]"
   ]
  },
  {
   "cell_type": "code",
   "execution_count": null,
   "id": "1d1f351a",
   "metadata": {
    "execution": {
     "iopub.execute_input": "2023-08-23T13:47:43.858023Z",
     "iopub.status.busy": "2023-08-23T13:47:43.856695Z",
     "iopub.status.idle": "2023-08-23T14:00:28.150817Z",
     "shell.execute_reply": "2023-08-23T14:00:28.149150Z"
    },
    "papermill": {
     "duration": 764.470987,
     "end_time": "2023-08-23T14:00:28.242854",
     "exception": false,
     "start_time": "2023-08-23T13:47:43.771867",
     "status": "completed"
    },
    "tags": []
   },
   "outputs": [],
   "source": [
    "# Here, we have performed hyperparameter tuning on multiple regression models\n",
    "# to finally find out the best model\n",
    "\n",
    "scores = []\n",
    "best_estimators = {}\n",
    "\n",
    "for name, model, params in zip(model_names, models, model_params):\n",
    "#     pipe = make_pipeline(StandardScaler(), model)\n",
    "    clf = GridSearchCV(model, params, cv=5, return_train_score=False)\n",
    "    clf.fit(X_train, y_train)\n",
    "    scores.append({\n",
    "        'model': name,\n",
    "        'best_score': clf.best_score_,\n",
    "        'best_params': clf.best_params_\n",
    "    })\n",
    "    best_estimators[model] = clf.best_estimator_\n",
    "\n",
    "res = pd.DataFrame(scores, columns=['model', 'best_score', 'best_params'])\n",
    "res"
   ]
  },
  {
   "cell_type": "code",
   "execution_count": 33,
   "id": "ea424f02",
   "metadata": {
    "execution": {
     "iopub.execute_input": "2023-08-23T14:00:28.416155Z",
     "iopub.status.busy": "2023-08-23T14:00:28.415708Z",
     "iopub.status.idle": "2023-08-23T14:00:38.341204Z",
     "shell.execute_reply": "2023-08-23T14:00:38.339963Z"
    },
    "papermill": {
     "duration": 10.01534,
     "end_time": "2023-08-23T14:00:38.344159",
     "exception": false,
     "start_time": "2023-08-23T14:00:28.328819",
     "status": "completed"
    },
    "tags": []
   },
   "outputs": [
    {
     "name": "stdout",
     "output_type": "stream",
     "text": [
      "R-squared: 0.9726740054808992\n"
     ]
    }
   ],
   "source": [
    "best_model=RandomForestRegressor(n_estimators=100)\n",
    "best_model.fit(X_train,y_train)\n",
    "y_pred=best_model.predict(X_test)\n",
    "# mse = mean_squared_error(y_test, y_pred)\n",
    "r2 = r2_score(y_test, y_pred)\n",
    "print(\"R-squared:\", r2)"
   ]
  },
  {
   "cell_type": "code",
   "execution_count": 34,
   "id": "9ed2c0b7",
   "metadata": {},
   "outputs": [
    {
     "data": {
      "text/plain": [
       "['models/yield_predictor.pkl']"
      ]
     },
     "execution_count": 34,
     "metadata": {},
     "output_type": "execute_result"
    }
   ],
   "source": [
    "import joblib\n",
    "\n",
    "model = best_model\n",
    "# Save the model to a file\n",
    "joblib.dump(model, 'models/yield_predictor.pkl')"
   ]
  },
  {
   "cell_type": "code",
   "execution_count": 52,
   "id": "9d95d2dc",
   "metadata": {},
   "outputs": [
    {
     "data": {
      "text/plain": [
       "25570    -1861.10\n",
       "18119    -3748.03\n",
       "25613    -1199.43\n",
       "6821     10140.22\n",
       "18150      831.62\n",
       "           ...   \n",
       "25033     5950.56\n",
       "5514     12586.97\n",
       "11399        0.00\n",
       "16694     -119.09\n",
       "3883       204.19\n",
       "Name: hg/ha_yield, Length: 5649, dtype: float64"
      ]
     },
     "execution_count": 52,
     "metadata": {},
     "output_type": "execute_result"
    }
   ],
   "source": [
    "#model = joblib.load('models/yield_predictor.pkl')\n",
    "#y_pred1 = pd.DataFrame()\n",
    "#best_model.predict(X_test.loc[0])\n",
    "y_test - best_model.predict(X_test)"
   ]
  },
  {
   "cell_type": "code",
   "execution_count": null,
   "id": "74ea637e",
   "metadata": {
    "execution": {
     "iopub.execute_input": "2023-08-23T14:00:38.523521Z",
     "iopub.status.busy": "2023-08-23T14:00:38.522983Z",
     "iopub.status.idle": "2023-08-23T14:00:39.103250Z",
     "shell.execute_reply": "2023-08-23T14:00:39.101876Z"
    },
    "papermill": {
     "duration": 0.673958,
     "end_time": "2023-08-23T14:00:39.106938",
     "exception": false,
     "start_time": "2023-08-23T14:00:38.432980",
     "status": "completed"
    },
    "tags": []
   },
   "outputs": [],
   "source": [
    "#plotting the results of our model, against the original results\n",
    "plt.figure(figsize=(10, 6))\n",
    "sns.scatterplot(x=y_test, y=y_pred, alpha=0.7, color='blue', label='Predicted')\n",
    "sns.scatterplot(x=y_test, y=y_test, alpha=0.7, color='red', label='Actual')\n",
    "plt.xlabel(\"Actual Values (y_test)\")\n",
    "plt.ylabel(\"Predicted Values (y_pred)\")\n",
    "plt.title(\"Actual vs. Predicted Values\")\n",
    "plt.grid(True)\n",
    "plt.legend()\n",
    "plt.show()"
   ]
  },
  {
   "cell_type": "code",
   "execution_count": null,
   "id": "f355ae0b",
   "metadata": {},
   "outputs": [],
   "source": [
    "import pkg_resources\n",
    "import types\n",
    "def get_imports():\n",
    "    for name, val in globals().items():\n",
    "        if isinstance(val, types.ModuleType):\n",
    "            # Split ensures you get root package, \n",
    "            # not just imported function\n",
    "            name = val.__name__.split(\".\")[0]\n",
    "\n",
    "        elif isinstance(val, type):\n",
    "            name = val.__module__.split(\".\")[0]\n",
    "\n",
    "        # Some packages are weird and have different\n",
    "        # imported names vs. system names\n",
    "        if name == \"PIL\":\n",
    "            name = \"Pillow\"\n",
    "        elif name == \"sklearn\":\n",
    "            name = \"scikit-learn\"\n",
    "\n",
    "        yield name\n",
    "imports = list(set(get_imports()))\n",
    "\n",
    "requirements = []\n",
    "for m in pkg_resources.working_set:\n",
    "    if m.project_name in imports and m.project_name!=\"pip\":\n",
    "        requirements.append((m.project_name, m.version))\n",
    "\n",
    "for r in requirements:\n",
    "    print(\"{}=={}\".format(*r))"
   ]
  }
 ],
 "metadata": {
  "kernelspec": {
   "display_name": "Python 3 (ipykernel)",
   "language": "python",
   "name": "python3"
  },
  "language_info": {
   "codemirror_mode": {
    "name": "ipython",
    "version": 3
   },
   "file_extension": ".py",
   "mimetype": "text/x-python",
   "name": "python",
   "nbconvert_exporter": "python",
   "pygments_lexer": "ipython3",
   "version": "3.11.1"
  },
  "papermill": {
   "default_parameters": {},
   "duration": 1324.593996,
   "end_time": "2023-08-23T14:00:40.424250",
   "environment_variables": {},
   "exception": null,
   "input_path": "__notebook__.ipynb",
   "output_path": "__notebook__.ipynb",
   "parameters": {},
   "start_time": "2023-08-23T13:38:35.830254",
   "version": "2.4.0"
  }
 },
 "nbformat": 4,
 "nbformat_minor": 5
}
